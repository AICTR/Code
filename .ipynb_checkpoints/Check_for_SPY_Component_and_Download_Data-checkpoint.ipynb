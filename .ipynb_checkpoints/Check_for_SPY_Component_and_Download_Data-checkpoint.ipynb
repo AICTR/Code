{
 "cells": [
  {
   "cell_type": "code",
   "execution_count": 2,
   "metadata": {},
   "outputs": [],
   "source": [
    "import numpy as np\n",
    "import pandas as pd\n",
    "from tools import DownloadData\n",
    "import json\n",
    "import yfinance as yf\n",
    "from datetime import datetime\n",
    "\n",
    "import warnings\n",
    "warnings.filterwarnings('ignore')"
   ]
  },
  {
   "cell_type": "code",
   "execution_count": 3,
   "metadata": {},
   "outputs": [],
   "source": [
    "with open(\"sp500-historical-components.json\",'r') as load_f:\n",
    "    load_dict = json.load(load_f)"
   ]
  },
  {
   "cell_type": "code",
   "execution_count": 4,
   "metadata": {},
   "outputs": [],
   "source": [
    "d = {}\n",
    "for i in load_dict:\n",
    "    if i['Date'] == '2017/05/03':\n",
    "        continue\n",
    "    j = i['Date'].replace('/','-')\n",
    "    d[j] = i['Symbols']\n",
    "    "
   ]
  },
  {
   "cell_type": "code",
   "execution_count": 5,
   "metadata": {},
   "outputs": [
    {
     "data": {
      "text/plain": [
       "['2008-01-31',\n",
       " '2008-02-29',\n",
       " '2008-03-31',\n",
       " '2008-04-30',\n",
       " '2008-05-30',\n",
       " '2008-06-30',\n",
       " '2008-07-31',\n",
       " '2008-08-29',\n",
       " '2008-09-30',\n",
       " '2008-10-31',\n",
       " '2008-11-28',\n",
       " '2008-12-31',\n",
       " '2009-01-30',\n",
       " '2009-02-27',\n",
       " '2009-03-31',\n",
       " '2009-04-30',\n",
       " '2009-05-29',\n",
       " '2009-06-30',\n",
       " '2009-07-31',\n",
       " '2009-08-31',\n",
       " '2009-09-30',\n",
       " '2009-10-30',\n",
       " '2009-11-30',\n",
       " '2009-12-31',\n",
       " '2010-01-29',\n",
       " '2010-02-26',\n",
       " '2010-03-31',\n",
       " '2010-04-30',\n",
       " '2010-05-28',\n",
       " '2010-06-30',\n",
       " '2010-07-30',\n",
       " '2010-08-31',\n",
       " '2010-09-30',\n",
       " '2010-10-29',\n",
       " '2010-11-30',\n",
       " '2010-12-31',\n",
       " '2011-01-31',\n",
       " '2011-02-28',\n",
       " '2011-03-31',\n",
       " '2011-04-29',\n",
       " '2011-05-31',\n",
       " '2011-06-30',\n",
       " '2011-07-29',\n",
       " '2011-08-31',\n",
       " '2011-09-30',\n",
       " '2011-10-31',\n",
       " '2011-11-30',\n",
       " '2011-12-30',\n",
       " '2012-01-31',\n",
       " '2012-02-29',\n",
       " '2012-03-30',\n",
       " '2012-04-30',\n",
       " '2012-05-31',\n",
       " '2012-06-29',\n",
       " '2012-07-31',\n",
       " '2012-08-31',\n",
       " '2012-09-28',\n",
       " '2012-10-31',\n",
       " '2012-11-30',\n",
       " '2012-12-31',\n",
       " '2013-01-31',\n",
       " '2013-02-28',\n",
       " '2013-03-28',\n",
       " '2013-04-30',\n",
       " '2013-05-31',\n",
       " '2013-06-28',\n",
       " '2013-07-31',\n",
       " '2013-08-30',\n",
       " '2013-09-30',\n",
       " '2013-10-31',\n",
       " '2013-11-29',\n",
       " '2013-12-31',\n",
       " '2014-01-31',\n",
       " '2014-02-28',\n",
       " '2014-03-31',\n",
       " '2014-04-30',\n",
       " '2014-05-30',\n",
       " '2014-06-30',\n",
       " '2014-07-31',\n",
       " '2014-08-29',\n",
       " '2014-09-30',\n",
       " '2014-10-31',\n",
       " '2014-11-28',\n",
       " '2014-12-31',\n",
       " '2015-01-30',\n",
       " '2015-02-27',\n",
       " '2015-03-31',\n",
       " '2015-04-30',\n",
       " '2015-05-29',\n",
       " '2015-06-30',\n",
       " '2015-07-31',\n",
       " '2015-08-31',\n",
       " '2015-09-30',\n",
       " '2015-10-30',\n",
       " '2015-11-30',\n",
       " '2015-12-31',\n",
       " '2016-01-29',\n",
       " '2016-02-29',\n",
       " '2016-03-31',\n",
       " '2016-04-29',\n",
       " '2016-05-31',\n",
       " '2016-06-30',\n",
       " '2016-07-29',\n",
       " '2016-08-31',\n",
       " '2016-09-30',\n",
       " '2016-10-31',\n",
       " '2016-11-30',\n",
       " '2016-12-30',\n",
       " '2017-01-31',\n",
       " '2017-02-28',\n",
       " '2017-03-31',\n",
       " '2017-04-28']"
      ]
     },
     "execution_count": 5,
     "metadata": {},
     "output_type": "execute_result"
    }
   ],
   "source": [
    "tmp = list(d.keys())\n",
    "tmp.sort()\n",
    "tmp"
   ]
  },
  {
   "cell_type": "code",
   "execution_count": 6,
   "metadata": {},
   "outputs": [],
   "source": [
    "dd = set()\n",
    "for i,v in d.items():\n",
    "    dd = dd.union(set(v))\n",
    "dd = list(dd)"
   ]
  },
  {
   "cell_type": "code",
   "execution_count": 7,
   "metadata": {},
   "outputs": [
    {
     "data": {
      "text/plain": [
       "['ROH', 'CPB', 'BXLT', 'IVZ', 'WAT', 'NFX', 'ULTA', 'PBCT', 'LMT', 'CWGL']"
      ]
     },
     "execution_count": 7,
     "metadata": {},
     "output_type": "execute_result"
    }
   ],
   "source": [
    "dd[:10]"
   ]
  },
  {
   "cell_type": "code",
   "execution_count": 8,
   "metadata": {},
   "outputs": [],
   "source": [
    "# DownloadData(d, '2007-01-01','2019-08-31','data/')"
   ]
  },
  {
   "cell_type": "code",
   "execution_count": 9,
   "metadata": {},
   "outputs": [],
   "source": [
    "# DownloadData(dd, '2007-01-01','2019-08-31','data/')"
   ]
  },
  {
   "cell_type": "code",
   "execution_count": 11,
   "metadata": {},
   "outputs": [
    {
     "data": {
      "text/plain": [
       "770"
      ]
     },
     "execution_count": 11,
     "metadata": {},
     "output_type": "execute_result"
    }
   ],
   "source": [
    "len(dd)"
   ]
  },
  {
   "cell_type": "code",
   "execution_count": null,
   "metadata": {},
   "outputs": [],
   "source": []
  }
 ],
 "metadata": {
  "kernelspec": {
   "display_name": "Python 3",
   "language": "python",
   "name": "python3"
  },
  "language_info": {
   "codemirror_mode": {
    "name": "ipython",
    "version": 3
   },
   "file_extension": ".py",
   "mimetype": "text/x-python",
   "name": "python",
   "nbconvert_exporter": "python",
   "pygments_lexer": "ipython3",
   "version": "3.7.3"
  }
 },
 "nbformat": 4,
 "nbformat_minor": 2
}
